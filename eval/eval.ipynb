{
 "metadata": {
  "language_info": {
   "codemirror_mode": {
    "name": "ipython",
    "version": 3
   },
   "file_extension": ".py",
   "mimetype": "text/x-python",
   "name": "python",
   "nbconvert_exporter": "python",
   "pygments_lexer": "ipython3",
   "version": "3.9.2-final"
  },
  "orig_nbformat": 2,
  "kernelspec": {
   "name": "python3",
   "display_name": "Python 3.9.2 64-bit",
   "metadata": {
    "interpreter": {
     "hash": "aee8b7b246df8f9039afb4144a1f6fd8d2ca17a180786b69acc140d282b71a49"
    }
   }
  }
 },
 "nbformat": 4,
 "nbformat_minor": 2,
 "cells": [
  {
   "cell_type": "code",
   "execution_count": 5,
   "metadata": {},
   "outputs": [],
   "source": [
    "import os"
   ]
  },
  {
   "cell_type": "code",
   "execution_count": 48,
   "metadata": {},
   "outputs": [],
   "source": [
    "class Box:\n",
    "    def __init__(self, name, conf, x1, y1, x2, y2):\n",
    "        self.name = name\n",
    "        self.conf = float(conf)\n",
    "        self.x1 = float(x1)\n",
    "        self.y1 = float(y1)\n",
    "        self.x2 = float(x2)\n",
    "        self.y2 = float(y2)\n",
    "\n",
    "    def size2list(self):\n",
    "        return [self.x1, self.y1, self.x2, self.y2]\n",
    "\n",
    "def parse_txt(filepath, isGt):\n",
    "    boxes = []\n",
    "    method = None\n",
    "    delay = None\n",
    "    with open(filepath, \"r\") as f:\n",
    "        lines = f.readlines()\n",
    "        lines = [line.strip() for line in lines]\n",
    "        if not isGt:\n",
    "            method, delay = lines[0].split()\n",
    "            delay = float(delay)\n",
    "            lines = lines[1:]\n",
    "\n",
    "        for line in lines:\n",
    "            split_line = line.split()\n",
    "            boxes.append(Box(*split_line))\n",
    "            \n",
    "    return method, delay, boxes"
   ]
  },
  {
   "cell_type": "code",
   "execution_count": 35,
   "metadata": {},
   "outputs": [],
   "source": [
    "def bbox_iou(box1, box2, x1y1x2y2=True):\n",
    "    if x1y1x2y2:\n",
    "        mx = min(box1[0], box2[0])\n",
    "        Mx = max(box1[2], box2[2])\n",
    "        my = min(box1[1], box2[1])\n",
    "        My = max(box1[3], box2[3])\n",
    "        w1 = box1[2] - box1[0]\n",
    "        h1 = box1[3] - box1[1]\n",
    "        w2 = box2[2] - box2[0]\n",
    "        h2 = box2[3] - box2[1]\n",
    "    else:\n",
    "        w1 = box1[2]\n",
    "        h1 = box1[3]\n",
    "        w2 = box2[2]\n",
    "        h2 = box2[3]\n",
    "\n",
    "        mx = min(box1[0], box2[0])\n",
    "        Mx = max(box1[0] + w1, box2[0] + w2)\n",
    "        my = min(box1[1], box2[1])\n",
    "        My = max(box1[1] + h1, box2[1] + h2)\n",
    "    uw = Mx - mx\n",
    "    uh = My - my\n",
    "    cw = w1 + w2 - uw\n",
    "    ch = h1 + h2 - uh\n",
    "    carea = 0\n",
    "    if cw <= 0 or ch <= 0:\n",
    "        return 0.0\n",
    "\n",
    "    area1 = w1 * h1\n",
    "    area2 = w2 * h2\n",
    "    carea = cw * ch\n",
    "    uarea = area1 + area2 - carea\n",
    "    return carea / uarea"
   ]
  },
  {
   "cell_type": "code",
   "execution_count": 64,
   "metadata": {},
   "outputs": [],
   "source": [
    "def get_performance(result_dir, ground_true_dir=\"./gt\"):\n",
    "    track_sum = 0\n",
    "    track_delay_sum = 0\n",
    "    detect_sum = 0\n",
    "    detect_delay_sum = 0\n",
    "    track_scores_sum = 0\n",
    "    detect_scores_sum = 0\n",
    "\n",
    "    for _, _, files in os.walk(ground_true_dir):\n",
    "        frame_count = len(files)\n",
    "        for filename in files:\n",
    "            gt_path = os.path.join(ground_true_dir, filename)\n",
    "            result_path = os.path.join(result_dir, filename)\n",
    "            method, delay, result_boxes = parse_txt(result_path, False)\n",
    "            _, _, gt_boxes = parse_txt(gt_path, True)\n",
    "            if method == \"detect\":\n",
    "                detect_sum += 1\n",
    "                detect_delay_sum += delay / 1e9\n",
    "                detect_scores_sum += 100 \n",
    "            else:\n",
    "                track_sum += 1\n",
    "                track_delay_sum += delay / 1e9\n",
    "                temp_scores_sum = 0\n",
    "                for result_box in result_boxes:\n",
    "                    max_iou = 0\n",
    "                    for gt_box in gt_boxes:\n",
    "                        iou = bbox_iou(result_box.size2list(), gt_box.size2list())\n",
    "                        if iou > max_iou:\n",
    "                            max_iou = iou\n",
    "                    temp_scores_sum += max_iou * 100\n",
    "                    track_scores_sum += temp_scores_sum / (len(gt_boxes) * 100)\n",
    "    detect_delay_avg = detect_delay_sum / detect_sum\n",
    "    track_delay_avg = track_delay_sum / track_sum\n",
    "    return detect_delay_avg, detect_delay_sum, track_delay_avg, track_delay_sum, detect_scores_sum, track_scores_sum"
   ]
  },
  {
   "cell_type": "code",
   "execution_count": 71,
   "metadata": {},
   "outputs": [
    {
     "output_type": "stream",
     "name": "stdout",
     "text": [
      "(0.02654999999999999, 2.0443499999999992, 0.0460818051948052, 3.5482990000000005, 7700, 254.60564309760287)\n",
      "(0.02703587012987013, 2.081762, 0.0066226753246753246, 0.509946, 7700, 60.30547752554178)\n",
      "(0.026848194805194806, 2.067311, 0.01796651948051948, 1.383422, 7700, 321.4656107566765)\n",
      "(0.02748387012987014, 2.1162580000000006, 0.27031870129870134, 20.81454, 7700, 341.45567704400503)\n",
      "(0.027463259740259736, 2.1146709999999995, 0.378971012987013, 29.180768000000004, 7700, 327.6920769771779)\n",
      "(1.2657376883116886, 97.46180200000002, 2.2438968441558433, 172.78005699999994, 7700, 213.3473582407876)\n",
      "(0.02730925974025973, 2.1028129999999994, 0.44687837662337654, 34.409634999999994, 7700, 258.82112713349846)\n"
     ]
    }
   ],
   "source": [
    "print(get_performance(\"./kcf\"))\n",
    "print(get_performance(\"./mosse\"))\n",
    "print(get_performance(\"./medainflow\"))\n",
    "print(get_performance(\"./csrt\"))\n",
    "print(get_performance(\"./mil\"))\n",
    "print(get_performance(\"./boosting\"))\n",
    "print(get_performance(\"./tld\"))"
   ]
  }
 ]
}