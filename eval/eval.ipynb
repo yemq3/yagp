{
 "metadata": {
  "language_info": {
   "codemirror_mode": {
    "name": "ipython",
    "version": 3
   },
   "file_extension": ".py",
   "mimetype": "text/x-python",
   "name": "python",
   "nbconvert_exporter": "python",
   "pygments_lexer": "ipython3",
   "version": "3.9.2"
  },
  "orig_nbformat": 2,
  "kernelspec": {
   "name": "python3",
   "display_name": "Python 3.9.2 64-bit",
   "metadata": {
    "interpreter": {
     "hash": "aee8b7b246df8f9039afb4144a1f6fd8d2ca17a180786b69acc140d282b71a49"
    }
   }
  }
 },
 "nbformat": 4,
 "nbformat_minor": 2,
 "cells": [
  {
   "cell_type": "code",
   "execution_count": 1,
   "metadata": {},
   "outputs": [],
   "source": [
    "import os"
   ]
  },
  {
   "cell_type": "code",
   "execution_count": 2,
   "metadata": {},
   "outputs": [],
   "source": [
    "class Box:\n",
    "    def __init__(self, name, conf, x1, y1, x2, y2):\n",
    "        self.name = name\n",
    "        self.conf = float(conf)\n",
    "        self.x1 = float(x1)\n",
    "        self.y1 = float(y1)\n",
    "        self.x2 = float(x2)\n",
    "        self.y2 = float(y2)\n",
    "\n",
    "    def size2list(self):\n",
    "        return [self.x1, self.y1, self.x2, self.y2]\n",
    "\n",
    "def parse_txt(filepath, isGt):\n",
    "    boxes = []\n",
    "    method = None\n",
    "    delay = None\n",
    "    with open(filepath, \"r\") as f:\n",
    "        lines = f.readlines()\n",
    "        lines = [line.strip() for line in lines]\n",
    "        if not isGt:\n",
    "            method, delay = lines[0].split()\n",
    "            delay = float(delay)\n",
    "            lines = lines[1:]\n",
    "\n",
    "        for line in lines:\n",
    "            split_line = line.split()\n",
    "            boxes.append(Box(*split_line))\n",
    "            \n",
    "    return method, delay, boxes"
   ]
  },
  {
   "cell_type": "code",
   "execution_count": 3,
   "metadata": {},
   "outputs": [],
   "source": [
    "def bbox_iou(box1, box2, x1y1x2y2=True):\n",
    "    if x1y1x2y2:\n",
    "        mx = min(box1[0], box2[0])\n",
    "        Mx = max(box1[2], box2[2])\n",
    "        my = min(box1[1], box2[1])\n",
    "        My = max(box1[3], box2[3])\n",
    "        w1 = box1[2] - box1[0]\n",
    "        h1 = box1[3] - box1[1]\n",
    "        w2 = box2[2] - box2[0]\n",
    "        h2 = box2[3] - box2[1]\n",
    "    else:\n",
    "        w1 = box1[2]\n",
    "        h1 = box1[3]\n",
    "        w2 = box2[2]\n",
    "        h2 = box2[3]\n",
    "\n",
    "        mx = min(box1[0], box2[0])\n",
    "        Mx = max(box1[0] + w1, box2[0] + w2)\n",
    "        my = min(box1[1], box2[1])\n",
    "        My = max(box1[1] + h1, box2[1] + h2)\n",
    "    uw = Mx - mx\n",
    "    uh = My - my\n",
    "    cw = w1 + w2 - uw\n",
    "    ch = h1 + h2 - uh\n",
    "    carea = 0\n",
    "    if cw <= 0 or ch <= 0:\n",
    "        return 0.0\n",
    "\n",
    "    area1 = w1 * h1\n",
    "    area2 = w2 * h2\n",
    "    carea = cw * ch\n",
    "    uarea = area1 + area2 - carea\n",
    "    return carea / uarea"
   ]
  },
  {
   "cell_type": "code",
   "execution_count": 4,
   "metadata": {},
   "outputs": [],
   "source": [
    "def get_performance(result_dir, ground_true_dir=\"./gt\"):\n",
    "    track_sum = 0\n",
    "    track_delay_sum = 0\n",
    "    detect_sum = 0\n",
    "    detect_delay_sum = 0\n",
    "    track_scores_sum = 0\n",
    "    detect_scores_sum = 0\n",
    "    object_sum = 0\n",
    "    object_loss = 0\n",
    "\n",
    "    for _, _, files in os.walk(ground_true_dir):\n",
    "        frame_count = len(files)\n",
    "        for filename in files:\n",
    "            gt_path = os.path.join(ground_true_dir, filename)\n",
    "            result_path = os.path.join(result_dir, filename)\n",
    "            method, delay, result_boxes = parse_txt(result_path, False)\n",
    "            _, _, gt_boxes = parse_txt(gt_path, True)\n",
    "            object_sum += len(gt_boxes)\n",
    "            if method == \"detect\":\n",
    "                detect_sum += 1\n",
    "                detect_delay_sum += delay / 1e9\n",
    "                detect_scores_sum += 100 \n",
    "            else:\n",
    "                track_sum += 1\n",
    "                track_delay_sum += delay / 1e9\n",
    "                temp_scores_sum = 0\n",
    "                object_loss += len(gt_boxes) - len(result_boxes)\n",
    "                for result_box in result_boxes:\n",
    "                    max_iou = 0\n",
    "                    for gt_box in gt_boxes:\n",
    "                        iou = bbox_iou(result_box.size2list(), gt_box.size2list())\n",
    "                        if iou > max_iou:\n",
    "                            max_iou = iou\n",
    "                    if max_iou > 0.9:\n",
    "                        score = 100\n",
    "                    elif max_iou > 0.8:\n",
    "                        score = 95\n",
    "                    elif max_iou > 0.7:\n",
    "                        score = 90\n",
    "                    elif max_iou > 0.6:\n",
    "                        score = 80\n",
    "                    elif max_iou > 0.5:\n",
    "                        score = 70\n",
    "                    else:\n",
    "                        score = max_iou * 100\n",
    "                        object_loss += 1\n",
    "                    temp_scores_sum += score\n",
    "                track_scores_sum += temp_scores_sum / (len(gt_boxes) * 100) * 100\n",
    "    detect_delay_avg = detect_delay_sum / detect_sum\n",
    "    track_delay_avg = track_delay_sum / track_sum\n",
    "    return detect_delay_avg, detect_delay_sum, track_delay_avg, track_delay_sum, detect_scores_sum/detect_sum, track_scores_sum/track_sum, object_sum, object_loss, object_loss/object_sum*100"
   ]
  },
  {
   "cell_type": "code",
   "execution_count": 8,
   "metadata": {
    "tags": []
   },
   "outputs": [
    {
     "output_type": "stream",
     "name": "stdout",
     "text": [
      "method         detect_delay_avg    detect_delay_sum    track_delay_avg    track_delay_sum    detect_scores    track_scores    object_sum    object_loss    object_loss_rate\n-----------  ------------------  ------------------  -----------------  -----------------  ---------------  --------------  ------------  -------------  ------------------\nlk500-0.01            0.01698               1.30746         0.0122775            0.945369              100         79.7388          1646            139             8.44471\nlk1000-0.01           0.0170399             1.31207         0.0151333            1.16526               100         81.2409          1646            124             7.53341\nlk1000-0.1            0.0173345             1.33475         0.0114835            0.884231              100         79.3707          1646            149             9.05225\nmedainflow            0.0268482             2.06731         0.0179665            1.38342               100         79.7186          1646            135             8.2017\nkcf                   0.02655               2.04435         0.0460818            3.5483                100         63.2148          1646            301            18.2868\nmosse                 0.0270359             2.08176         0.00662268           0.509946              100         29.7134          1646            571            34.6902\ncsrt                  0.0274839             2.11626         0.270319            20.8145                100         81.3487          1646            117             7.10814\nmil                   0.0274633             2.11467         0.378971            29.1808                100         77.7921          1646            159             9.65978\nboosting              1.26574              97.4618          2.2439             172.78                  100         52.0741          1646            457            27.7643\ntld                   0.0273093             2.10281         0.446878            34.4096                100         65.9277          1646            222            13.4872\n"
     ]
    }
   ],
   "source": [
    "import wcwidth\n",
    "from tabulate import tabulate\n",
    "data = []\n",
    "data.append([\"lk500-0.01\", *get_performance(\"./lk500-0.01\")])\n",
    "data.append([\"lk1000-0.01\", *get_performance(\"./lk1000-0.01\")])\n",
    "data.append([\"lk1000-0.1\", *get_performance(\"./lk1000-0.1\")])\n",
    "data.append([\"medainflow\", *get_performance(\"./medainflow\")])\n",
    "data.append([\"kcf\", *get_performance(\"./kcf\")])\n",
    "data.append([\"mosse\", *get_performance(\"./mosse\")])\n",
    "data.append([\"csrt\", *get_performance(\"./csrt\")])\n",
    "data.append([\"mil\", *get_performance(\"./mil\")])\n",
    "data.append([\"boosting\", *get_performance(\"./boosting\")])\n",
    "data.append([\"tld\", *get_performance(\"./tld\")])\n",
    "print(tabulate(data, headers=[\"method\", \"detect_delay_avg\", \"detect_delay_sum\", \"track_delay_avg\", \"track_delay_sum\", \"detect_scores\", \"track_scores\", \"object_sum\", \"object_loss\", \"object_loss_rate\"]))"
   ]
  },
  {
   "cell_type": "code",
   "execution_count": null,
   "metadata": {},
   "outputs": [],
   "source": []
  }
 ]
}